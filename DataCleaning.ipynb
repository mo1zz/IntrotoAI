{
 "cells": [
  {
   "cell_type": "code",
   "execution_count": 1,
   "id": "4da63f9a",
   "metadata": {},
   "outputs": [],
   "source": [
    "import pandas as pd\n",
    "import numpy as np"
   ]
  },
  {
   "cell_type": "code",
   "execution_count": 2,
   "id": "0dcf68aa",
   "metadata": {},
   "outputs": [],
   "source": [
    "# Load the data\n",
    "df = pd.read_csv(r'C:\\Users\\ungod\\Desktop\\2022\\heart_2022_with_nans.csv')"
   ]
  },
  {
   "cell_type": "code",
   "execution_count": 3,
   "id": "3f196b01",
   "metadata": {},
   "outputs": [
    {
     "name": "stdout",
     "output_type": "stream",
     "text": [
      "\\nCleaned data saved to: C:\\Users\\ungod\\Documents\\GitHub\\IntrotoAI\\cleaned_data.csv\n",
      "\n",
      "Total NaN values remaining: 0\n"
     ]
    }
   ],
   "source": [
    "# Clean the data\n",
    "for col in df.columns:\n",
    "    if df[col].dtype == 'object':\n",
    "        # For categorical columns, fill NaNs with mode (most frequent value)\n",
    "        min_value = df[col].dropna().mode().iloc[0]\n",
    "        df[col] = df[col].fillna(min_value)\n",
    "    else:\n",
    "        # For numerical columns, fill NaNs with mean\n",
    "        mean_value = df[col].mean()\n",
    "        df[col] = df[col].fillna(mean_value)\n",
    "\n",
    "# Save the cleaned data\n",
    "df.to_csv(r'C:\\Users\\ungod\\Documents\\GitHub\\IntrotoAI\\cleaned_data.csv', index=False)\n",
    "\n",
    "print(r\"\\nCleaned data saved to: C:\\Users\\ungod\\Documents\\GitHub\\IntrotoAI\\cleaned_data.csv\")\n",
    "\n",
    "# Check for any remaining NaN values\n",
    "nan_count = df.isna().sum().sum()\n",
    "print(f\"\\nTotal NaN values remaining: {nan_count}\")"
   ]
  },
  {
   "cell_type": "code",
   "execution_count": null,
   "id": "14ba77c8",
   "metadata": {},
   "outputs": [],
   "source": []
  }
 ],
 "metadata": {
  "kernelspec": {
   "display_name": "Python 3 (ipykernel)",
   "language": "python",
   "name": "python3"
  },
  "language_info": {
   "codemirror_mode": {
    "name": "ipython",
    "version": 3
   },
   "file_extension": ".py",
   "mimetype": "text/x-python",
   "name": "python",
   "nbconvert_exporter": "python",
   "pygments_lexer": "ipython3",
   "version": "3.12.4"
  }
 },
 "nbformat": 4,
 "nbformat_minor": 5
}
